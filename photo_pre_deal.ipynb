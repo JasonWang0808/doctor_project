{
 "cells": [
  {
   "cell_type": "code",
   "execution_count": 2,
   "metadata": {},
   "outputs": [
    {
     "name": "stdout",
     "output_type": "stream",
     "text": [
      "['download.jpg']\n"
     ]
    }
   ],
   "source": [
    "import glob\n",
    "path = glob.glob(r'*.jpg')\n",
    "print(path)"
   ]
  },
  {
   "cell_type": "markdown",
   "metadata": {},
   "source": [
    "### 旋转度数"
   ]
  },
  {
   "cell_type": "code",
   "execution_count": 16,
   "metadata": {},
   "outputs": [],
   "source": [
    "import cv2\n",
    "from math import *\n",
    "import numpy as np\n",
    "name = 'new'\n",
    "img = cv2.imread(path[0])\n",
    "\n",
    "height,width=img.shape[:2]\n",
    "\n",
    "degree=1\n",
    "#旋转后的尺寸\n",
    "for degree in range(1,360):\n",
    "    heightNew=int(width*fabs(sin(radians(degree)))+height*fabs(cos(radians(degree))))\n",
    "    widthNew=int(height*fabs(sin(radians(degree)))+width*fabs(cos(radians(degree))))\n",
    "\n",
    "    matRotation=cv2.getRotationMatrix2D((width/2,height/2),degree,1)\n",
    "\n",
    "    matRotation[0,2] +=(widthNew-width)/2  #重点在这步，目前不懂为什么加这步\n",
    "    matRotation[1,2] +=(heightNew-height)/2  #重点在这步\n",
    "   \n",
    "    imgRotation=cv2.warpAffine(img,matRotation,(widthNew,heightNew),borderValue=(255,255,255))\n",
    "    cv2.imwrite(name+ str(degree)+'.jpg',imgRotation)"
   ]
  },
  {
   "cell_type": "code",
   "execution_count": 12,
   "metadata": {},
   "outputs": [
    {
     "data": {
      "text/plain": [
       "'new179'"
      ]
     },
     "execution_count": 12,
     "metadata": {},
     "output_type": "execute_result"
    }
   ],
   "source": [
    "name + str(degree)"
   ]
  },
  {
   "cell_type": "markdown",
   "metadata": {},
   "source": [
    "### 翻转"
   ]
  },
  {
   "cell_type": "code",
   "execution_count": 19,
   "metadata": {},
   "outputs": [
    {
     "data": {
      "text/plain": [
       "True"
      ]
     },
     "execution_count": 19,
     "metadata": {},
     "output_type": "execute_result"
    }
   ],
   "source": [
    "image = cv2.imread(path[0])\n",
    "flipped = cv2.flip(image,1)\n",
    "cv2.imwrite('tttttt.jpg',flipped)"
   ]
  },
  {
   "cell_type": "code",
   "execution_count": null,
   "metadata": {},
   "outputs": [],
   "source": []
  }
 ],
 "metadata": {
  "kernelspec": {
   "display_name": "Python 3",
   "language": "python",
   "name": "python3"
  },
  "language_info": {
   "codemirror_mode": {
    "name": "ipython",
    "version": 3
   },
   "file_extension": ".py",
   "mimetype": "text/x-python",
   "name": "python",
   "nbconvert_exporter": "python",
   "pygments_lexer": "ipython3",
   "version": "3.6.4"
  }
 },
 "nbformat": 4,
 "nbformat_minor": 2
}
